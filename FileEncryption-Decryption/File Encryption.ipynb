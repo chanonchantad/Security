{
 "cells": [
  {
   "cell_type": "markdown",
   "metadata": {},
   "source": [
    "## File Encryption/Decryption using AES\n",
    "\n",
    "This program utilizes the python hazmat cryptography library to encrypt and decrypt user files. The file will first be padded using PKCS7 to make sure the input to our encryption algorithm is the appropriate block size. CBC mode (AES) will then be used to encrypt a file of the user's choice and output a JSON file."
   ]
  },
  {
   "cell_type": "code",
   "execution_count": 11,
   "metadata": {
    "collapsed": true
   },
   "outputs": [],
   "source": [
    "# import the necessary libraries needed\n",
    "import os as os\n",
    "from cryptography.hazmat.primitives.ciphers import Cipher, algorithms, modes\n",
    "from cryptography.hazmat.primitives import padding\n",
    "from cryptography.hazmat.backends import default_backend\n",
    "import json"
   ]
  },
  {
   "cell_type": "code",
   "execution_count": 2,
   "metadata": {
    "collapsed": true
   },
   "outputs": [],
   "source": [
    "# constants used for our encryption algorithm\n",
    "IV_LENGTH = 16\n",
    "KEY_LENGTH = 32\n",
    "BLOCK_SIZE = 128"
   ]
  },
  {
   "cell_type": "code",
   "execution_count": 3,
   "metadata": {
    "collapsed": true
   },
   "outputs": [],
   "source": [
    "def myEncrypt(message):\n",
    "    \"\"\"\n",
    "    Encrypts the message using CBC mode (AES).\n",
    "    \n",
    "    Arguments:\n",
    "    message -- stream of bytes the user wants to encrypt\n",
    "    \n",
    "    Return:\n",
    "    cipher -- The cipher text\n",
    "    iv -- the IV needed for decryption\n",
    "    key -- the key needed for decryption\n",
    "    \"\"\"\n",
    "    \n",
    "    # generate our key and iv\n",
    "    backend = default_backend()\n",
    "    iv = os.urandom(IV_LENGTH)\n",
    "    key = os.urandom(KEY_LENGTH)\n",
    "    \n",
    "    # pad to approprate block size\n",
    "    padder = padding.PKCS7(BLOCK_SIZE).padder()\n",
    "    paddedMessage = padder.update(message)\n",
    "    paddedMessage += padder.finalize()\n",
    "    \n",
    "    # encrypt using CBC mode (AES)\n",
    "    cipher = Cipher(algorithms.AES(key), modes.CBC(iv), backend=backend)\n",
    "    encryptor = cipher.encryptor()\n",
    "    ct = encryptor.update(paddedMessage) + encryptor.finalize()\n",
    "    \n",
    "    return ct, iv, key"
   ]
  },
  {
   "cell_type": "code",
   "execution_count": 4,
   "metadata": {},
   "outputs": [
    {
     "name": "stdout",
     "output_type": "stream",
     "text": [
      "<class 'bytes'>\n",
      "b'A Secret Message for Mehrdad Aliasgari the great'\n"
     ]
    }
   ],
   "source": [
    "# test case for a string\n",
    "message = \"A Secret Message for Mehrdad Aliasgari the great\"\n",
    "byteMessage = message.encode('utf-8')\n",
    "print(type(byteMessage))\n",
    "print(byteMessage)\n",
    "testMsg, testIV, testKey = myEncrypt(byteMessage)"
   ]
  },
  {
   "cell_type": "code",
   "execution_count": 5,
   "metadata": {
    "collapsed": true
   },
   "outputs": [],
   "source": [
    "def myFileEncrypt(filepath):\n",
    "    \"\"\"\n",
    "    Takes the file from the filepath specified by the user and encrypts the file. \n",
    "    \n",
    "    Arguments:\n",
    "    filepath -- Filepath for the file user wants to encrypt\n",
    "    \n",
    "    Return:\n",
    "    cipher -- The cipher text\n",
    "    iv -- the IV needed for decryption\n",
    "    key -- the key needed for decryption\n",
    "    fileType -- the file extension\n",
    "    \"\"\"\n",
    "    # read the file and convert it to bytes\n",
    "    file = open(filepath, \"rb\")\n",
    "    byte = bytes(file.read())\n",
    "    file.close()\n",
    "    \n",
    "    # encrypt the file\n",
    "    cipher, iv, key = myEncrypt(byte)\n",
    "    fileType = \"PNG\"\n",
    "    return cipher, iv, key, fileType"
   ]
  },
  {
   "cell_type": "code",
   "execution_count": 26,
   "metadata": {
    "collapsed": true
   },
   "outputs": [],
   "source": [
    "cipher, iv, key, fileType = myFileEncrypt(\"test.png\")\n",
    "files = {\n",
    "    \"cipher\" : str(cipher),\n",
    "    \"iv\" : str(iv),\n",
    "    \"key\": str(key),\n",
    "    \"ext\"  : fileType   \n",
    "}\n",
    "fileName = open(\"encrypt.json\", \"w\")\n",
    "jsonObject = json.dump(files,fileName)\n",
    "\n",
    "file = open(\"out.bytes\", \"wb\")\n",
    "file.write(cipher)\n",
    "file.close()"
   ]
  },
  {
   "cell_type": "code",
   "execution_count": 8,
   "metadata": {
    "collapsed": true
   },
   "outputs": [],
   "source": [
    "file2 = open(\"out.bytes\", \"rb\")\n",
    "byte2 = bytes(file2.read())\n"
   ]
  },
  {
   "cell_type": "code",
   "execution_count": 9,
   "metadata": {
    "collapsed": true
   },
   "outputs": [],
   "source": [
    "def myDecrypt(message, key, iv):\n",
    "    \"\"\"\n",
    "    Decrypts the message using CBC mode (AES).\n",
    "    \n",
    "    Arguments:\n",
    "    message -- stream of bytes the user wants to encrypt\n",
    "    cipher -- The cipher text\n",
    "    iv -- the IV needed for decryption\n",
    "    key -- the key needed for decryption\n",
    "    \n",
    "    Return:\n",
    "    unpaddedMessage -- the original message\n",
    "    \"\"\"\n",
    "    \n",
    "    # decrypt the file\n",
    "    backend = default_backend()\n",
    "    cipher = Cipher(algorithms.AES(key), modes.CBC(iv), backend=backend)\n",
    "    decryptor = cipher.decryptor()\n",
    "    decryptedMessage = decryptor.update(message) + decryptor.finalize()\n",
    "    \n",
    "    # unpad the file\n",
    "    unpadder = padding.PKCS7(BLOCK_SIZE).unpadder()\n",
    "    unpaddedMessage = unpadder.update(decryptedMessage)\n",
    "    \n",
    "    return unpaddedMessage"
   ]
  },
  {
   "cell_type": "code",
   "execution_count": 10,
   "metadata": {
    "collapsed": true
   },
   "outputs": [],
   "source": [
    "def myFileDecrypt(filepath, iv, key, fileType):\n",
    "    \"\"\"\n",
    "    Takes the file from the filepath specified by the user and encrypts the file. \n",
    "    \n",
    "    Arguments:\n",
    "    cipher -- The cipher text\n",
    "    iv -- the IV needed for decryption\n",
    "    key -- the key needed for decryption\n",
    "    fileType -- the file extension\n",
    "    \"\"\"    \n",
    "    file = open(filepath, \"rb\")\n",
    "    byte = bytes(file.read())\n",
    "    decryptedFile = myDecrypt(byte, key, iv)\n",
    "    image = Image.open(io.BytesIO(decryptedFile))\n",
    "    image.show()"
   ]
  },
  {
   "cell_type": "code",
   "execution_count": 12,
   "metadata": {},
   "outputs": [
    {
     "name": "stderr",
     "output_type": "stream",
     "text": [
      "C:\\Users\\piercingonez\\Anaconda3\\lib\\site-packages\\PIL\\Image.py:888: UserWarning: Palette images with Transparency   expressed in bytes should be converted to RGBA images\n",
      "  'to RGBA images')\n"
     ]
    }
   ],
   "source": [
    "myFileDecrypt(\"out.bytes\",iv, key, \"PNG\")"
   ]
  },
  {
   "cell_type": "code",
   "execution_count": null,
   "metadata": {
    "collapsed": true
   },
   "outputs": [],
   "source": []
  }
 ],
 "metadata": {
  "kernelspec": {
   "display_name": "Python 3",
   "language": "python",
   "name": "python3"
  },
  "language_info": {
   "codemirror_mode": {
    "name": "ipython",
    "version": 3
   },
   "file_extension": ".py",
   "mimetype": "text/x-python",
   "name": "python",
   "nbconvert_exporter": "python",
   "pygments_lexer": "ipython3",
   "version": "3.6.2"
  }
 },
 "nbformat": 4,
 "nbformat_minor": 2
}
